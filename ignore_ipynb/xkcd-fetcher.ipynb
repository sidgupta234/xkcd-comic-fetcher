{
 "cells": [
  {
   "cell_type": "code",
   "execution_count": 7,
   "metadata": {},
   "outputs": [],
   "source": [
    "import pandas as pd\n",
    "import json\n",
    "pd.set_option('display.max_colwidth', None)"
   ]
  },
  {
   "cell_type": "code",
   "execution_count": 8,
   "metadata": {},
   "outputs": [
    {
     "data": {
      "text/html": [
       "<div>\n",
       "<style scoped>\n",
       "    .dataframe tbody tr th:only-of-type {\n",
       "        vertical-align: middle;\n",
       "    }\n",
       "\n",
       "    .dataframe tbody tr th {\n",
       "        vertical-align: top;\n",
       "    }\n",
       "\n",
       "    .dataframe thead th {\n",
       "        text-align: right;\n",
       "    }\n",
       "</style>\n",
       "<table border=\"1\" class=\"dataframe\">\n",
       "  <thead>\n",
       "    <tr style=\"text-align: right;\">\n",
       "      <th></th>\n",
       "      <th>month</th>\n",
       "      <th>num</th>\n",
       "      <th>link</th>\n",
       "      <th>year</th>\n",
       "      <th>news</th>\n",
       "      <th>safe_title</th>\n",
       "      <th>transcript</th>\n",
       "      <th>alt</th>\n",
       "      <th>img</th>\n",
       "      <th>title</th>\n",
       "      <th>day</th>\n",
       "      <th>extra_parts</th>\n",
       "    </tr>\n",
       "  </thead>\n",
       "  <tbody>\n",
       "    <tr>\n",
       "      <th>0</th>\n",
       "      <td>7</td>\n",
       "      <td>2496</td>\n",
       "      <td></td>\n",
       "      <td>2021</td>\n",
       "      <td></td>\n",
       "      <td>Mine Captcha</td>\n",
       "      <td></td>\n",
       "      <td>This data is actually going into improving our self-driving car project, so hurry up--it's almost at the minefield.</td>\n",
       "      <td>https://imgs.xkcd.com/comics/mine_captcha.png</td>\n",
       "      <td>Mine Captcha</td>\n",
       "      <td>30</td>\n",
       "      <td>NaN</td>\n",
       "    </tr>\n",
       "    <tr>\n",
       "      <th>1</th>\n",
       "      <td>1</td>\n",
       "      <td>1</td>\n",
       "      <td></td>\n",
       "      <td>2006</td>\n",
       "      <td></td>\n",
       "      <td>Barrel - Part 1</td>\n",
       "      <td>[[A boy sits in a barrel which is floating in an ocean.]]\\nBoy: I wonder where I'll float next?\\n[[The barrel drifts into the distance. Nothing else can be seen.]]\\n{{Alt: Don't we all.}}</td>\n",
       "      <td>Don't we all.</td>\n",
       "      <td>https://imgs.xkcd.com/comics/barrel_cropped_(1).jpg</td>\n",
       "      <td>Barrel - Part 1</td>\n",
       "      <td>1</td>\n",
       "      <td>NaN</td>\n",
       "    </tr>\n",
       "    <tr>\n",
       "      <th>2</th>\n",
       "      <td>1</td>\n",
       "      <td>2</td>\n",
       "      <td></td>\n",
       "      <td>2006</td>\n",
       "      <td></td>\n",
       "      <td>Petit Trees (sketch)</td>\n",
       "      <td>[[Two trees are growing on opposite sides of a sphere.]]\\n{{Alt-title: 'Petit' being a reference to Le Petit Prince, which I only thought about halfway through the sketch}}</td>\n",
       "      <td>'Petit' being a reference to Le Petit Prince, which I only thought about halfway through the sketch</td>\n",
       "      <td>https://imgs.xkcd.com/comics/tree_cropped_(1).jpg</td>\n",
       "      <td>Petit Trees (sketch)</td>\n",
       "      <td>1</td>\n",
       "      <td>NaN</td>\n",
       "    </tr>\n",
       "    <tr>\n",
       "      <th>3</th>\n",
       "      <td>1</td>\n",
       "      <td>3</td>\n",
       "      <td></td>\n",
       "      <td>2006</td>\n",
       "      <td></td>\n",
       "      <td>Island (sketch)</td>\n",
       "      <td>[[A sketch of an Island]]\\n{{Alt:Hello, island}}</td>\n",
       "      <td>Hello, island</td>\n",
       "      <td>https://imgs.xkcd.com/comics/island_color.jpg</td>\n",
       "      <td>Island (sketch)</td>\n",
       "      <td>1</td>\n",
       "      <td>NaN</td>\n",
       "    </tr>\n",
       "    <tr>\n",
       "      <th>4</th>\n",
       "      <td>1</td>\n",
       "      <td>4</td>\n",
       "      <td></td>\n",
       "      <td>2006</td>\n",
       "      <td></td>\n",
       "      <td>Landscape (sketch)</td>\n",
       "      <td>[[A sketch of a landscape with sun on the horizon]]\\n{{Alt: There's a river flowing through the ocean}}</td>\n",
       "      <td>There's a river flowing through the ocean</td>\n",
       "      <td>https://imgs.xkcd.com/comics/landscape_cropped_(1).jpg</td>\n",
       "      <td>Landscape (sketch)</td>\n",
       "      <td>1</td>\n",
       "      <td>NaN</td>\n",
       "    </tr>\n",
       "  </tbody>\n",
       "</table>\n",
       "</div>"
      ],
      "text/plain": [
       "   month   num link  year news            safe_title  \\\n",
       "0      7  2496       2021               Mine Captcha   \n",
       "1      1     1       2006            Barrel - Part 1   \n",
       "2      1     2       2006       Petit Trees (sketch)   \n",
       "3      1     3       2006            Island (sketch)   \n",
       "4      1     4       2006         Landscape (sketch)   \n",
       "\n",
       "                                                                                                                                                                                    transcript  \\\n",
       "0                                                                                                                                                                                                \n",
       "1  [[A boy sits in a barrel which is floating in an ocean.]]\\nBoy: I wonder where I'll float next?\\n[[The barrel drifts into the distance. Nothing else can be seen.]]\\n{{Alt: Don't we all.}}   \n",
       "2                 [[Two trees are growing on opposite sides of a sphere.]]\\n{{Alt-title: 'Petit' being a reference to Le Petit Prince, which I only thought about halfway through the sketch}}   \n",
       "3                                                                                                                                             [[A sketch of an Island]]\\n{{Alt:Hello, island}}   \n",
       "4                                                                                      [[A sketch of a landscape with sun on the horizon]]\\n{{Alt: There's a river flowing through the ocean}}   \n",
       "\n",
       "                                                                                                                   alt  \\\n",
       "0  This data is actually going into improving our self-driving car project, so hurry up--it's almost at the minefield.   \n",
       "1                                                                                                        Don't we all.   \n",
       "2                  'Petit' being a reference to Le Petit Prince, which I only thought about halfway through the sketch   \n",
       "3                                                                                                        Hello, island   \n",
       "4                                                                            There's a river flowing through the ocean   \n",
       "\n",
       "                                                      img  \\\n",
       "0           https://imgs.xkcd.com/comics/mine_captcha.png   \n",
       "1     https://imgs.xkcd.com/comics/barrel_cropped_(1).jpg   \n",
       "2       https://imgs.xkcd.com/comics/tree_cropped_(1).jpg   \n",
       "3           https://imgs.xkcd.com/comics/island_color.jpg   \n",
       "4  https://imgs.xkcd.com/comics/landscape_cropped_(1).jpg   \n",
       "\n",
       "                  title  day extra_parts  \n",
       "0          Mine Captcha   30         NaN  \n",
       "1       Barrel - Part 1    1         NaN  \n",
       "2  Petit Trees (sketch)    1         NaN  \n",
       "3       Island (sketch)    1         NaN  \n",
       "4    Landscape (sketch)    1         NaN  "
      ]
     },
     "execution_count": 8,
     "metadata": {},
     "output_type": "execute_result"
    }
   ],
   "source": [
    "data_df = pd.read_json('xkcd_data.json')#, lines=True)\n",
    "data_df.head()"
   ]
  },
  {
   "cell_type": "code",
   "execution_count": 9,
   "metadata": {},
   "outputs": [
    {
     "data": {
      "text/plain": [
       "Index(['month', 'num', 'link', 'year', 'news', 'safe_title', 'transcript',\n",
       "       'alt', 'img', 'title', 'day', 'extra_parts'],\n",
       "      dtype='object')"
      ]
     },
     "execution_count": 9,
     "metadata": {},
     "output_type": "execute_result"
    }
   ],
   "source": [
    "data_df.columns"
   ]
  },
  {
   "cell_type": "code",
   "execution_count": 23,
   "metadata": {},
   "outputs": [
    {
     "data": {
      "text/plain": [
       "0                           https://imgs.xkcd.com/comics/mine_captcha.png\n",
       "1                     https://imgs.xkcd.com/comics/barrel_cropped_(1).jpg\n",
       "2                       https://imgs.xkcd.com/comics/tree_cropped_(1).jpg\n",
       "3                           https://imgs.xkcd.com/comics/island_color.jpg\n",
       "4                  https://imgs.xkcd.com/comics/landscape_cropped_(1).jpg\n",
       "                                      ...                                \n",
       "2491    https://imgs.xkcd.com/comics/commonly_mispronounced_equations.png\n",
       "2492                          https://imgs.xkcd.com/comics/dual_usb_c.png\n",
       "2493                         https://imgs.xkcd.com/comics/flawed_data.png\n",
       "2494                 https://imgs.xkcd.com/comics/universal_seat_belt.png\n",
       "2495                        https://imgs.xkcd.com/comics/mine_captcha.png\n",
       "Name: img, Length: 2496, dtype: object"
      ]
     },
     "execution_count": 23,
     "metadata": {},
     "output_type": "execute_result"
    }
   ],
   "source": [
    "data_df['img']"
   ]
  },
  {
   "cell_type": "code",
   "execution_count": 36,
   "metadata": {},
   "outputs": [],
   "source": [
    "data_df['transcript'] = data_df['transcript'].str.lower()"
   ]
  },
  {
   "cell_type": "code",
   "execution_count": 39,
   "metadata": {},
   "outputs": [],
   "source": [
    "data_df_required = data_df.loc[data_df['transcript'].str.contains(\"word\", case=False)]"
   ]
  },
  {
   "cell_type": "code",
   "execution_count": 43,
   "metadata": {},
   "outputs": [
    {
     "data": {
      "text/plain": [
       "16                 https://imgs.xkcd.com/comics/monty_python.jpg\n",
       "24      https://imgs.xkcd.com/comics/godel_escher_kurthalsey.jpg\n",
       "37                       https://imgs.xkcd.com/comics/hyphen.jpg\n",
       "62                     https://imgs.xkcd.com/comics/karnaugh.jpg\n",
       "68                  https://imgs.xkcd.com/comics/five_thirty.jpg\n",
       "                                  ...                           \n",
       "1575          https://imgs.xkcd.com/comics/i_could_care_less.png\n",
       "1624            https://imgs.xkcd.com/comics/substitutions_2.png\n",
       "1645                https://imgs.xkcd.com/comics/twitter_bot.png\n",
       "1647                https://imgs.xkcd.com/comics/famous_duos.png\n",
       "1651               https://imgs.xkcd.com/comics/conditionals.png\n",
       "Name: img, Length: 135, dtype: object"
      ]
     },
     "execution_count": 43,
     "metadata": {},
     "output_type": "execute_result"
    }
   ],
   "source": [
    "data_df_required['img']"
   ]
  },
  {
   "cell_type": "code",
   "execution_count": null,
   "metadata": {},
   "outputs": [],
   "source": []
  }
 ],
 "metadata": {
  "kernelspec": {
   "display_name": "Python 3",
   "language": "python",
   "name": "python3"
  },
  "language_info": {
   "codemirror_mode": {
    "name": "ipython",
    "version": 3
   },
   "file_extension": ".py",
   "mimetype": "text/x-python",
   "name": "python",
   "nbconvert_exporter": "python",
   "pygments_lexer": "ipython3",
   "version": "3.6.8"
  }
 },
 "nbformat": 4,
 "nbformat_minor": 2
}
